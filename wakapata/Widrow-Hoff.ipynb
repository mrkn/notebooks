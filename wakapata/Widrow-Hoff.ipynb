{
 "cells": [
  {
   "cell_type": "code",
   "execution_count": 1,
   "metadata": {
    "collapsed": false,
    "scrolled": true
   },
   "outputs": [],
   "source": [
    "typealias F32 Float32\n",
    "typealias Vec32 Vector{F32}\n",
    "typealias Mat32 Array{F32,2}\n",
    "nothing"
   ]
  },
  {
   "cell_type": "markdown",
   "metadata": {},
   "source": [
    "- $L$ は学習データのサンプル数\n",
    "- $M$ は出力ベクトルの次元 (分類クラス数 or 目的変数の個数)\n",
    "- $N$ は入力ベクトルの次元 (説明変数の個数)\n",
    "\n",
    "とする。この時\n",
    "\n",
    "- $w$ は $(N, M)$ 行列\n",
    "- $\\mathit{xs}$ は $(L, N)$ 行列\n",
    "- $\\mathit{ts}$ は $(L, M)$ 行列\n",
    "\n",
    "である。"
   ]
  },
  {
   "cell_type": "code",
   "execution_count": 2,
   "metadata": {
    "collapsed": false
   },
   "outputs": [
    {
     "data": {
      "text/plain": [
       "train (generic function with 1 method)"
      ]
     },
     "execution_count": 2,
     "metadata": {},
     "output_type": "execute_result"
    }
   ],
   "source": [
    "function train(rho, w, xs, ts)\n",
    "    gs = xs * w  # gs is (L, M)-matrix\n",
    "    es = gs - ts # es is (L, M)-matrix\n",
    "    dw = xs' * es  # xs' is (N, L)-matrix, so (xs' * es) is (N, M)-matrix\n",
    "    w_ = w - rho * dw # w_ is updated w\n",
    "    return w_\n",
    "end"
   ]
  },
  {
   "cell_type": "code",
   "execution_count": 3,
   "metadata": {
    "collapsed": false
   },
   "outputs": [
    {
     "data": {
      "text/plain": [
       "error (generic function with 1 method)"
      ]
     },
     "execution_count": 3,
     "metadata": {},
     "output_type": "execute_result"
    }
   ],
   "source": [
    "function error(w, xs, ts)\n",
    "    gs = xs * w  # gs is (L, M)-matrix\n",
    "    es = gs - ts # es is (L, M)-matrix\n",
    "    return sum(es .^ 2.0) / 2.0 # .^ means element-wise power\n",
    "end"
   ]
  },
  {
   "cell_type": "code",
   "execution_count": 15,
   "metadata": {
    "collapsed": false
   },
   "outputs": [
    {
     "data": {
      "text/plain": [
       "6×3 Array{Float32,2}:\n",
       "  1.0  1.0  0.0\n",
       "  0.5  1.0  0.0\n",
       " -0.2  0.0  1.0\n",
       " -0.4  1.0  0.0\n",
       " -1.3  0.0  1.0\n",
       " -2.0  0.0  1.0"
      ]
     },
     "execution_count": 15,
     "metadata": {},
     "output_type": "execute_result"
    }
   ],
   "source": [
    "classes = [\n",
    "    F32[1, 0],  # class-1\n",
    "    F32[0, 1]   # class-2\n",
    "]\n",
    "\n",
    "xs = F32[ 1.0, 0.5, -0.2, -0.4, -1.3, -2.0 ]  # input vector\n",
    "cs =    [   1,   1,    2,    1,    2,    2 ]  # corresponding classes\n",
    "ts = reduce(hcat, map(i -> classes[i], cs))'  # making teacher vector\n",
    "\n",
    "hcat(xs, ts)"
   ]
  },
  {
   "cell_type": "code",
   "execution_count": 16,
   "metadata": {
    "collapsed": false
   },
   "outputs": [
    {
     "data": {
      "text/plain": [
       "1×2 Array{Float32,2}:\n",
       " 0.2  0.3"
      ]
     },
     "execution_count": 16,
     "metadata": {},
     "output_type": "execute_result"
    }
   ],
   "source": [
    "# weight matrix\n",
    "w = F32[0.2, 0.3]'"
   ]
  },
  {
   "cell_type": "code",
   "execution_count": 17,
   "metadata": {
    "collapsed": false
   },
   "outputs": [
    {
     "data": {
      "text/plain": [
       "4.294099807739258"
      ]
     },
     "execution_count": 17,
     "metadata": {},
     "output_type": "execute_result"
    }
   ],
   "source": [
    "last_error = error(w, xs, ts)"
   ]
  },
  {
   "cell_type": "code",
   "execution_count": 18,
   "metadata": {
    "collapsed": false
   },
   "outputs": [
    {
     "name": "stdout",
     "output_type": "stream",
     "text": [
      "2.2403740882873535\n",
      "2.072387456893921\n",
      "2.0586469173431396\n",
      "2.057523012161255\n",
      "2.057431221008301\n",
      "2.0574235916137695\n",
      "2.0574231147766113\n",
      "2.0574231147766113\n"
     ]
    }
   ],
   "source": [
    "rho = 0.1\n",
    "while true\n",
    "    w = train(rho, w, xs, ts)\n",
    "    e = error(w, xs, ts)\n",
    "    println(e)\n",
    "    if abs(last_error - e) < 1e-9\n",
    "        break\n",
    "    end\n",
    "    last_error = e\n",
    "end"
   ]
  },
  {
   "cell_type": "code",
   "execution_count": 19,
   "metadata": {
    "collapsed": false
   },
   "outputs": [
    {
     "name": "stdout",
     "output_type": "stream",
     "text": [
      "4.3140997886657715\n",
      "2.118553876876831\n",
      "1.9389673471450806\n",
      "1.9242777824401855\n",
      "1.9230761528015137\n",
      "1.9229780435562134\n",
      "1.922970175743103\n",
      "1.9229692220687866\n",
      "1.9229692220687866\n"
     ]
    }
   ],
   "source": [
    "xs = F32[ 1.0, 0.5, -0.2, -0.4, -1.3, -2.0 ]  # input vector\n",
    "cs =    [   1,   1,    1,    2,    2,    2 ]  # corresponding classes\n",
    "\n",
    "ts = reduce(hcat, map(i -> classes[i], cs))'  # making teacher vector\n",
    "w = F32[0.2, 0.3]' # weight matrix\n",
    "\n",
    "last_error = error(w, xs, ts)\n",
    "println(last_error)\n",
    "rho = 0.1\n",
    "while true\n",
    "    w = train(rho, w, xs, ts)\n",
    "    e = error(w, xs, ts)\n",
    "    println(e)\n",
    "    if abs(last_error - e) < 1e-9\n",
    "        break\n",
    "    end\n",
    "    last_error = e\n",
    "end"
   ]
  },
  {
   "cell_type": "code",
   "execution_count": null,
   "metadata": {
    "collapsed": true
   },
   "outputs": [],
   "source": []
  }
 ],
 "metadata": {
  "kernelspec": {
   "display_name": "Julia 0.5.0",
   "language": "julia",
   "name": "julia-0.5"
  },
  "language_info": {
   "file_extension": ".jl",
   "mimetype": "application/julia",
   "name": "julia",
   "version": "0.5.0"
  }
 },
 "nbformat": 4,
 "nbformat_minor": 2
}
